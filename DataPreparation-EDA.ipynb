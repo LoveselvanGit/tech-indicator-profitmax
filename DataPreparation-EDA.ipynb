{
 "cells": [
  {
   "cell_type": "markdown",
   "id": "31a8137e",
   "metadata": {},
   "source": [
    "<h1 style=\"text-align: center;\">Most Active Stocks: Data Preparation and EDA</h1>"
   ]
  },
  {
   "cell_type": "code",
   "execution_count": 1,
   "id": "12a18ae1",
   "metadata": {},
   "outputs": [
    {
     "name": "stdout",
     "output_type": "stream",
     "text": [
      "Requirement already satisfied: selenium in c:\\users\\anbus\\anaconda3\\lib\\site-packages (4.28.1)\n",
      "Requirement already satisfied: urllib3[socks]<3,>=1.26 in c:\\users\\anbus\\anaconda3\\lib\\site-packages (from selenium) (1.26.16)\n",
      "Requirement already satisfied: trio~=0.17 in c:\\users\\anbus\\anaconda3\\lib\\site-packages (from selenium) (0.29.0)\n",
      "Requirement already satisfied: trio-websocket~=0.9 in c:\\users\\anbus\\anaconda3\\lib\\site-packages (from selenium) (0.12.0)\n",
      "Requirement already satisfied: certifi>=2021.10.8 in c:\\users\\anbus\\anaconda3\\lib\\site-packages (from selenium) (2023.7.22)\n",
      "Requirement already satisfied: typing_extensions~=4.9 in c:\\users\\anbus\\anaconda3\\lib\\site-packages (from selenium) (4.12.2)\n",
      "Requirement already satisfied: websocket-client~=1.8 in c:\\users\\anbus\\anaconda3\\lib\\site-packages (from selenium) (1.8.0)\n",
      "Requirement already satisfied: attrs>=23.2.0 in c:\\users\\anbus\\anaconda3\\lib\\site-packages (from trio~=0.17->selenium) (25.1.0)\n",
      "Requirement already satisfied: sortedcontainers in c:\\users\\anbus\\anaconda3\\lib\\site-packages (from trio~=0.17->selenium) (2.4.0)\n",
      "Requirement already satisfied: idna in c:\\users\\anbus\\anaconda3\\lib\\site-packages (from trio~=0.17->selenium) (3.4)\n",
      "Requirement already satisfied: outcome in c:\\users\\anbus\\anaconda3\\lib\\site-packages (from trio~=0.17->selenium) (1.3.0.post0)\n",
      "Requirement already satisfied: sniffio>=1.3.0 in c:\\users\\anbus\\anaconda3\\lib\\site-packages (from trio~=0.17->selenium) (1.3.1)\n",
      "Requirement already satisfied: cffi>=1.14 in c:\\users\\anbus\\anaconda3\\lib\\site-packages (from trio~=0.17->selenium) (1.15.1)\n",
      "Requirement already satisfied: wsproto>=0.14 in c:\\users\\anbus\\anaconda3\\lib\\site-packages (from trio-websocket~=0.9->selenium) (1.2.0)\n",
      "Requirement already satisfied: PySocks!=1.5.7,<2.0,>=1.5.6 in c:\\users\\anbus\\anaconda3\\lib\\site-packages (from urllib3[socks]<3,>=1.26->selenium) (1.7.1)\n",
      "Requirement already satisfied: pycparser in c:\\users\\anbus\\anaconda3\\lib\\site-packages (from cffi>=1.14->trio~=0.17->selenium) (2.21)\n",
      "Requirement already satisfied: h11<1,>=0.9.0 in c:\\users\\anbus\\anaconda3\\lib\\site-packages (from wsproto>=0.14->trio-websocket~=0.9->selenium) (0.14.0)\n",
      "Note: you may need to restart the kernel to use updated packages.\n"
     ]
    }
   ],
   "source": [
    "pip install selenium"
   ]
  },
  {
   "cell_type": "code",
   "execution_count": 2,
   "id": "025b7b42",
   "metadata": {},
   "outputs": [
    {
     "name": "stdout",
     "output_type": "stream",
     "text": [
      "Requirement already satisfied: webdriver-manager in c:\\users\\anbus\\anaconda3\\lib\\site-packages (4.0.2)\n",
      "Requirement already satisfied: requests in c:\\users\\anbus\\anaconda3\\lib\\site-packages (from webdriver-manager) (2.31.0)\n",
      "Requirement already satisfied: python-dotenv in c:\\users\\anbus\\anaconda3\\lib\\site-packages (from webdriver-manager) (0.21.0)\n",
      "Requirement already satisfied: packaging in c:\\users\\anbus\\anaconda3\\lib\\site-packages (from webdriver-manager) (23.1)\n",
      "Requirement already satisfied: charset-normalizer<4,>=2 in c:\\users\\anbus\\anaconda3\\lib\\site-packages (from requests->webdriver-manager) (2.0.4)\n",
      "Requirement already satisfied: idna<4,>=2.5 in c:\\users\\anbus\\anaconda3\\lib\\site-packages (from requests->webdriver-manager) (3.4)\n",
      "Requirement already satisfied: urllib3<3,>=1.21.1 in c:\\users\\anbus\\anaconda3\\lib\\site-packages (from requests->webdriver-manager) (1.26.16)\n",
      "Requirement already satisfied: certifi>=2017.4.17 in c:\\users\\anbus\\anaconda3\\lib\\site-packages (from requests->webdriver-manager) (2023.7.22)\n",
      "Note: you may need to restart the kernel to use updated packages.\n"
     ]
    }
   ],
   "source": [
    "pip install webdriver-manager"
   ]
  },
  {
   "cell_type": "code",
   "execution_count": 3,
   "id": "f0072c6f",
   "metadata": {},
   "outputs": [
    {
     "name": "stdout",
     "output_type": "stream",
     "text": [
      "Requirement already satisfied: webdriver-manager in c:\\users\\anbus\\anaconda3\\lib\\site-packages (4.0.2)\n",
      "Requirement already satisfied: requests in c:\\users\\anbus\\anaconda3\\lib\\site-packages (from webdriver-manager) (2.31.0)\n",
      "Requirement already satisfied: python-dotenv in c:\\users\\anbus\\anaconda3\\lib\\site-packages (from webdriver-manager) (0.21.0)\n",
      "Requirement already satisfied: packaging in c:\\users\\anbus\\anaconda3\\lib\\site-packages (from webdriver-manager) (23.1)\n",
      "Requirement already satisfied: charset-normalizer<4,>=2 in c:\\users\\anbus\\anaconda3\\lib\\site-packages (from requests->webdriver-manager) (2.0.4)\n",
      "Requirement already satisfied: idna<4,>=2.5 in c:\\users\\anbus\\anaconda3\\lib\\site-packages (from requests->webdriver-manager) (3.4)\n",
      "Requirement already satisfied: urllib3<3,>=1.21.1 in c:\\users\\anbus\\anaconda3\\lib\\site-packages (from requests->webdriver-manager) (1.26.16)\n",
      "Requirement already satisfied: certifi>=2017.4.17 in c:\\users\\anbus\\anaconda3\\lib\\site-packages (from requests->webdriver-manager) (2023.7.22)\n",
      "Note: you may need to restart the kernel to use updated packages.\n"
     ]
    }
   ],
   "source": [
    "pip install --upgrade webdriver-manager"
   ]
  },
  {
   "cell_type": "code",
   "execution_count": 4,
   "id": "cf2929d2",
   "metadata": {},
   "outputs": [
    {
     "name": "stdout",
     "output_type": "stream",
     "text": [
      "Requirement already satisfied: polygon-api-client in c:\\users\\anbus\\anaconda3\\lib\\site-packages (1.14.3)\n",
      "Requirement already satisfied: certifi<2026.0.0,>=2022.5.18 in c:\\users\\anbus\\anaconda3\\lib\\site-packages (from polygon-api-client) (2023.7.22)\n",
      "Requirement already satisfied: urllib3<3.0.0,>=1.26.9 in c:\\users\\anbus\\anaconda3\\lib\\site-packages (from polygon-api-client) (1.26.16)\n",
      "Requirement already satisfied: websockets<15.0,>=10.3 in c:\\users\\anbus\\anaconda3\\lib\\site-packages (from polygon-api-client) (14.2)\n",
      "Note: you may need to restart the kernel to use updated packages.\n"
     ]
    }
   ],
   "source": [
    "pip install polygon-api-client"
   ]
  },
  {
   "cell_type": "markdown",
   "id": "18b73b27",
   "metadata": {},
   "source": [
    "#### Web scrapping - Yahoo Finance Most active stock - Date: 02/20/2025 "
   ]
  },
  {
   "cell_type": "code",
   "execution_count": 5,
   "id": "10d3c2f8",
   "metadata": {},
   "outputs": [
    {
     "name": "stdout",
     "output_type": "stream",
     "text": [
      "Scraping page 1\n",
      "Scraping page 2\n",
      "Scraping page 3\n",
      "Scraping page 4\n",
      "Scraping page 5\n",
      "Scraping page 6\n",
      "Scraping page 7\n",
      "Scraping page 8\n",
      "Scraping page 9\n",
      "Scraping page 10\n",
      "    Symbol                             Name Price  Change Percent Change  \\\n",
      "0     PLTR       Palantir Technologies Inc.        106.27          -5.79   \n",
      "1     SMCI       Super Micro Computer, Inc.         59.27          -0.98   \n",
      "2     INTC                Intel Corporation         26.09          +0.37   \n",
      "3     NVDA               NVIDIA Corporation        140.11          +0.88   \n",
      "4     BABA    Alibaba Group Holding Limited        135.97         +10.18   \n",
      "..     ...                              ...   ...     ...            ...   \n",
      "245    ADI             Analog Devices, Inc.        243.82          +2.16   \n",
      "246   TCOM           Trip.com Group Limited         66.11          -0.57   \n",
      "247   PTEN       Patterson-UTI Energy, Inc.          8.83          -0.03   \n",
      "248   VTRS                     Viatris Inc.         11.06          +0.13   \n",
      "249     KC  Kingsoft Cloud Holdings Limited         20.17          +0.84   \n",
      "\n",
      "     Volume Market Cap  \n",
      "0    -5.17%   240.421M  \n",
      "1    -1.63%   180.864M  \n",
      "2    +1.44%   144.287M  \n",
      "3    +0.63%    142.14M  \n",
      "4    +8.09%   117.018M  \n",
      "..      ...        ...  \n",
      "245  +0.89%      5.89M  \n",
      "246  -0.85%     5.868M  \n",
      "247  -0.34%     5.826M  \n",
      "248  +1.19%     7.288M  \n",
      "249  +4.35%     5.817M  \n",
      "\n",
      "[250 rows x 7 columns]\n"
     ]
    }
   ],
   "source": [
    "from selenium import webdriver\n",
    "from selenium.webdriver.chrome.service import Service\n",
    "from webdriver_manager.chrome import ChromeDriverManager\n",
    "from selenium.webdriver.common.by import By\n",
    "from selenium.webdriver.support.ui import WebDriverWait\n",
    "from selenium.webdriver.support import expected_conditions as EC\n",
    "import pandas as pd\n",
    "from datetime import datetime\n",
    "import time\n",
    "\n",
    "# Set up Google Chrome WebDriver\n",
    "driver = webdriver.Chrome(service=Service(ChromeDriverManager().install()))\n",
    "\n",
    "# Initialize the stock data list\n",
    "stock_data = []\n",
    "\n",
    "# Number of pages to scrape\n",
    "num_pages = 10\n",
    "\n",
    "# Scrape data from each page by updating the URL with `start` parameter\n",
    "for page in range(num_pages):\n",
    "    print(f\"Scraping page {page+1}\")\n",
    "    \n",
    "    # Construct URL with the correct start and count for pagination\n",
    "    start = page * 25\n",
    "    url = f'https://finance.yahoo.com/markets/stocks/most-active/?start={start}&count=25'\n",
    "    \n",
    "    # Open the page\n",
    "    driver.get(url)\n",
    "    \n",
    "    # Wait for the table to load\n",
    "    wait = WebDriverWait(driver, 90)\n",
    "    table = wait.until(EC.presence_of_element_located((By.XPATH, \"//table[1]\")))\n",
    "\n",
    "    # Extract table rows (skip the header)\n",
    "    rows = table.find_elements(By.TAG_NAME, 'tr')\n",
    "\n",
    "    # Iterate over the rows and extract data\n",
    "    for row in rows[1:]:  # Skip header row\n",
    "        cols = row.find_elements(By.TAG_NAME, 'td')\n",
    "        if len(cols) > 0:\n",
    "            symbol = cols[0].text.strip()\n",
    "            name = cols[1].text.strip()\n",
    "            \n",
    "            # Extract price using a more specific XPath\n",
    "            try:\n",
    "                price = row.find_element(By.XPATH, './/td[3]//span').text.strip()  # XPath for the price\n",
    "            except:\n",
    "                price = None  # Handle case where price is missing\n",
    "            \n",
    "            change = cols[3].text.strip()\n",
    "            percent_change = cols[4].text.strip()\n",
    "            volume = cols[5].text.strip()\n",
    "            market_cap = cols[6].text.strip()\n",
    "            \n",
    "            stock_data.append([symbol, name, price, change, percent_change, volume, market_cap])\n",
    "    \n",
    "    # Pause for a few seconds to avoid hitting the server too quickly\n",
    "    time.sleep(2)\n",
    "\n",
    "# Close the browser after scraping all pages\n",
    "driver.quit()\n",
    "\n",
    "# Convert the list to a DataFrame\n",
    "df = pd.DataFrame(stock_data, columns=['Symbol', 'Name', 'Price', 'Change', 'Percent Change', 'Volume', 'Market Cap'])\n",
    "\n",
    "# Display the DataFrame\n",
    "print(df)\n",
    "\n",
    "# Get the current date and time in a format suitable for filenames\n",
    "current_time = datetime.now().strftime(\"%Y-%m-%d_%H-%M-%S\")\n",
    "\n",
    "# Create the filename with the date and time included\n",
    "file_name = f\"most_active_stocks_{current_time}.xlsx\"\n",
    "\n",
    "# Export the DataFrame to Excel with the new filename\n",
    "df.to_excel(file_name, index=False)\n"
   ]
  },
  {
   "cell_type": "markdown",
   "id": "931f18c8",
   "metadata": {},
   "source": [
    "#### To check 3-day uptrend for price and volume - API call for Polygon.io"
   ]
  },
  {
   "cell_type": "code",
   "execution_count": 6,
   "id": "9abc8d1d",
   "metadata": {},
   "outputs": [],
   "source": [
    "from polygon import RESTClient\n",
    "import pandas as pd\n",
    "import time\n",
    "from datetime import datetime, timedelta\n",
    "\n",
    "# Function to check 3-day uptrend for price and volume using Polygon.io\n",
    "def check_3_day_uptrend(df, api_key):\n",
    "    time.sleep(1)  # Add delay to avoid rate limits\n",
    "    \n",
    "    # Initialize Polygon RESTClient\n",
    "    client = RESTClient(api_key)\n",
    "    \n",
    "    # Get the current date and calculate the date range for the last 4 days\n",
    "    to_date = datetime.now()\n",
    "    from_date = to_date - timedelta(days=4)  # Get the last 4 days of data\n",
    "    \n",
    "    # Convert dates to strings in 'YYYY-MM-DD' format\n",
    "    from_date_str = from_date.strftime('%Y-%m-%d')\n",
    "    to_date_str = to_date.strftime('%Y-%m-%d')\n",
    "    \n",
    "    # Create new columns for price_up and volume_up\n",
    "    df['price_up'] = \"NO\"\n",
    "    df['volume_up'] = \"NO\"\n",
    "    \n",
    "    # Loop through each stock symbol in the DataFrame\n",
    "    for idx, row in df.iterrows():\n",
    "        stock_symbol = row['Symbol']\n",
    "        \n",
    "        try:\n",
    "            # Fetch the last 4 days of data (OHLCV) using get_aggs method\n",
    "            aggs = client.get_aggs(stock_symbol, 1, 'day', from_=from_date_str, to=to_date_str)\n",
    "        except Exception as e:\n",
    "            print(f\"Error fetching data for {stock_symbol}: {e}\")\n",
    "            continue\n",
    "        \n",
    "        # Ensure we have at least 3 days of data\n",
    "        if len(aggs) < 3:\n",
    "            continue  # Skip this stock symbol if there is not enough data\n",
    "        \n",
    "        # Prepare the data (Price and Volume)\n",
    "        close_prices = [agg.close for agg in aggs]  # Closing prices\n",
    "        volumes = [agg.volume for agg in aggs]  # Volumes\n",
    "        \n",
    "        # Check for price uptrend (3-day)\n",
    "        if close_prices[0] < close_prices[1] and close_prices[1] < close_prices[2]:\n",
    "            df.at[idx, 'price_up'] = \"YES\"\n",
    "        \n",
    "        # Check for volume uptrend (3-day)\n",
    "        if volumes[0] < volumes[1] and volumes[1] < volumes[2]:\n",
    "            df.at[idx, 'volume_up'] = \"YES\"\n",
    "        \n",
    "        # Exclude stocks that are down today (compare last two closing prices)\n",
    "        if close_prices[-1] < close_prices[-2]:  # Compare the most recent close to the previous one\n",
    "            df.at[idx, 'price_up'] = \"NO\"\n",
    "            df.at[idx, 'volume_up'] = \"NO\"\n",
    "    \n",
    "    return df\n",
    "\n"
   ]
  },
  {
   "cell_type": "code",
   "execution_count": 7,
   "id": "389d8a98",
   "metadata": {},
   "outputs": [
    {
     "name": "stdout",
     "output_type": "stream",
     "text": [
      "    Symbol                             Name Price  Change Percent Change  \\\n",
      "0     PLTR       Palantir Technologies Inc.        106.27          -5.79   \n",
      "1     SMCI       Super Micro Computer, Inc.         59.27          -0.98   \n",
      "2     INTC                Intel Corporation         26.09          +0.37   \n",
      "3     NVDA               NVIDIA Corporation        140.11          +0.88   \n",
      "4     BABA    Alibaba Group Holding Limited        135.97         +10.18   \n",
      "..     ...                              ...   ...     ...            ...   \n",
      "245    ADI             Analog Devices, Inc.        243.82          +2.16   \n",
      "246   TCOM           Trip.com Group Limited         66.11          -0.57   \n",
      "247   PTEN       Patterson-UTI Energy, Inc.          8.83          -0.03   \n",
      "248   VTRS                     Viatris Inc.         11.06          +0.13   \n",
      "249     KC  Kingsoft Cloud Holdings Limited         20.17          +0.84   \n",
      "\n",
      "     Volume Market Cap price_up volume_up  \n",
      "0    -5.17%   240.421M       NO        NO  \n",
      "1    -1.63%   180.864M       NO        NO  \n",
      "2    +1.44%   144.287M       NO        NO  \n",
      "3    +0.63%    142.14M       NO        NO  \n",
      "4    +8.09%   117.018M       NO        NO  \n",
      "..      ...        ...      ...       ...  \n",
      "245  +0.89%      5.89M      YES        NO  \n",
      "246  -0.85%     5.868M       NO        NO  \n",
      "247  -0.34%     5.826M       NO        NO  \n",
      "248  +1.19%     7.288M      YES        NO  \n",
      "249  +4.35%     5.817M      YES        NO  \n",
      "\n",
      "[250 rows x 9 columns]\n"
     ]
    }
   ],
   "source": [
    "# API Key from Polygon.io\n",
    "api_key = 'IiVN4gR_7dpnNQ0H8J7N304wrr_379QZ'\n",
    "\n",
    "# df is already loaded with stock symbols, run the check_3_day_uptrend function\n",
    "df = check_3_day_uptrend(df, api_key)\n",
    "\n",
    "# Create the filename with the date and time included\n",
    "file_name = f\"most_active_stocks-3dayUP{current_time}.xlsx\"\n",
    "\n",
    "# Export the DataFrame to Excel with the new filename\n",
    "df.to_excel(file_name, index=False)\n",
    "\n",
    "# Display the DataFrame with the new columns\n",
    "print(df)"
   ]
  },
  {
   "cell_type": "code",
   "execution_count": null,
   "id": "f931c70d",
   "metadata": {},
   "outputs": [],
   "source": []
  }
 ],
 "metadata": {
  "kernelspec": {
   "display_name": "Python 3 (ipykernel)",
   "language": "python",
   "name": "python3"
  },
  "language_info": {
   "codemirror_mode": {
    "name": "ipython",
    "version": 3
   },
   "file_extension": ".py",
   "mimetype": "text/x-python",
   "name": "python",
   "nbconvert_exporter": "python",
   "pygments_lexer": "ipython3",
   "version": "3.11.5"
  }
 },
 "nbformat": 4,
 "nbformat_minor": 5
}
