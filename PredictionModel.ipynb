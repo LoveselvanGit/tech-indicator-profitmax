{
 "cells": [
  {
   "cell_type": "markdown",
   "id": "87608453",
   "metadata": {},
   "source": [
    "<h1 style=\"text-align: center;\">Random Forest classifier for predicting bullish or bearish market trends based on the signals</h1>"
   ]
  },
  {
   "cell_type": "markdown",
   "id": "2547177b",
   "metadata": {},
   "source": [
    "#### Loading the Data"
   ]
  },
  {
   "cell_type": "code",
   "execution_count": 14,
   "id": "cecbbfac",
   "metadata": {},
   "outputs": [
    {
     "name": "stdout",
     "output_type": "stream",
     "text": [
      "        Date  Price   Open   High    Low   Vol.  Change %   SMA20    SMA50  \\\n",
      "0 2024-01-02  70.85  69.67  70.96  69.60  3.96M      1.04  70.229  68.8206   \n",
      "1 2024-01-03  72.24  71.00  72.30  70.99  6.29M      1.96  70.229  68.8206   \n",
      "2 2024-01-04  71.71  72.31  72.54  71.58  3.44M     -0.73  70.229  68.8206   \n",
      "3 2024-01-05  71.61  71.74  71.85  70.71  5.67M     -0.14  70.229  68.8206   \n",
      "4 2024-01-08  72.16  71.50  72.18  71.18  3.30M      0.77  70.229  68.8206   \n",
      "\n",
      "    SMA200 Strong_Buy  Buy_Signal Strong_Sell  Sell_Signal  RSI_manual  \\\n",
      "0  77.6633        NaN         NaN         NaN          NaN         NaN   \n",
      "1  77.6633        NaN         NaN         NaN          NaN         NaN   \n",
      "2  77.6633        NaN         NaN         NaN          NaN         NaN   \n",
      "3  77.6633        NaN         NaN         NaN          NaN         NaN   \n",
      "4  77.6633        NaN         NaN         NaN          NaN         NaN   \n",
      "\n",
      "       EMA12      EMA26      MACD  MACD_signal  MACD_hist  \n",
      "0  70.850000  70.850000  0.000000     0.000000   0.000000  \n",
      "1  71.063846  70.952963  0.110883     0.022177   0.088707  \n",
      "2  71.163254  71.009040  0.154215     0.048584   0.105630  \n",
      "3  71.231985  71.053555  0.178429     0.074553   0.103876  \n",
      "4  71.374756  71.135514  0.239242     0.107491   0.131751  \n"
     ]
    }
   ],
   "source": [
    "import pandas as pd\n",
    "from sklearn.model_selection import train_test_split\n",
    "from sklearn.ensemble import RandomForestClassifier\n",
    "from sklearn.metrics import classification_report, accuracy_score\n",
    "from sklearn.preprocessing import LabelEncoder\n",
    "\n",
    "# Load dataset\n",
    "data = pd.read_excel('SO_Stock_Analysis.xlsx')\n",
    "\n",
    "# Display the first few rows of the dataframe to understand its structure\n",
    "print(data.head())\n"
   ]
  },
  {
   "cell_type": "code",
   "execution_count": 17,
   "id": "fda1364a",
   "metadata": {},
   "outputs": [
    {
     "name": "stdout",
     "output_type": "stream",
     "text": [
      "Date             0\n",
      "Price            0\n",
      "Open             0\n",
      "High             0\n",
      "Low              0\n",
      "Vol.             0\n",
      "Change %         0\n",
      "SMA20            0\n",
      "SMA50            0\n",
      "SMA200           0\n",
      "Strong_Buy     245\n",
      "Buy_Signal     285\n",
      "Strong_Sell    276\n",
      "Sell_Signal    285\n",
      "RSI_manual      13\n",
      "EMA12            0\n",
      "EMA26            0\n",
      "MACD             0\n",
      "MACD_signal      0\n",
      "MACD_hist        0\n",
      "Target           0\n",
      "dtype: int64\n"
     ]
    }
   ],
   "source": [
    "# Check for NaN values in each column\n",
    "nan_counts = data.isna().sum()\n",
    "print(nan_counts)"
   ]
  },
  {
   "cell_type": "code",
   "execution_count": 18,
   "id": "5ab070e5",
   "metadata": {},
   "outputs": [
    {
     "name": "stdout",
     "output_type": "stream",
     "text": [
      "   Strong_Buy  Buy_Signal  Strong_Sell  Sell_Signal\n",
      "0           0           0            0            0\n",
      "1           0           0            0            0\n",
      "2           0           0            0            0\n",
      "3           0           0            0            0\n",
      "4           0           0            0            0\n",
      "0    53.763297\n",
      "1    53.763297\n",
      "2    53.763297\n",
      "3    53.763297\n",
      "4    53.763297\n",
      "Name: RSI_manual, dtype: float64\n"
     ]
    }
   ],
   "source": [
    "from sklearn.impute import SimpleImputer\n",
    "\n",
    "# Convert signal columns to numerical for easier processing (e.g., 1 for signal, 0 for no signal)\n",
    "signal_columns = ['Strong_Buy', 'Buy_Signal', 'Strong_Sell', 'Sell_Signal']\n",
    "data[signal_columns] = data[signal_columns].notna().astype(int)\n",
    "\n",
    "# For RSI_manual, impute missing values with the median or another statistic\n",
    "# It's crucial to handle this carefully as RSI is a critical indicator\n",
    "imputer = SimpleImputer(strategy='median')\n",
    "data['RSI_manual'] = imputer.fit_transform(data[['RSI_manual']])\n",
    "\n",
    "# Check results\n",
    "print(data[signal_columns].head())\n",
    "print(data['RSI_manual'].head())"
   ]
  },
  {
   "cell_type": "markdown",
   "id": "e970cd8e",
   "metadata": {},
   "source": [
    "#### Preprocessing Data"
   ]
  },
  {
   "cell_type": "code",
   "execution_count": 19,
   "id": "218c2bb2",
   "metadata": {},
   "outputs": [],
   "source": [
    "import numpy as np\n",
    "from sklearn.impute import SimpleImputer\n",
    "\n",
    "# Preprocess Volume: Convert 'M' to millions\n",
    "data['Vol.'] = data['Vol.'].replace({'M': '*1e6', 'K': '*1e3'}, regex=True).map(pd.eval).astype(float)\n",
    "\n",
    "# We create a single column 'Market_Trend' to use as the label\n",
    "conditions = [\n",
    "    (data['Strong_Buy'] == 'Strong Buy') | (data['Buy_Signal'] == 'Buy/Hold'),\n",
    "    (data['Strong_Sell'] == 'Strong Sell') | (data['Sell_Signal'] == 'Sell')\n",
    "]\n",
    "choices = ['Bullish', 'Bearish']\n",
    "data['Target'] = np.select(conditions, choices, default='Neutral')\n",
    "\n",
    "# Encode the categorical data\n",
    "data['Target'] = data['Target'].astype('category').cat.codes\n",
    "\n",
    "# Select features\n",
    "features = data[['Price', 'Open', 'High', 'Low', 'Vol.', 'SMA20', 'SMA50', 'SMA200', 'EMA12', 'EMA26', 'MACD', 'MACD_signal', 'MACD_hist', 'RSI_manual']]\n",
    "target = data['Target']\n",
    "\n",
    "# Handle missing values\n",
    "imputer = SimpleImputer(strategy='median')\n",
    "features_imputed = imputer.fit_transform(features)\n",
    "\n",
    "# Split the data into training and testing sets\n",
    "X_train, X_test, y_train, y_test = train_test_split(features, target, test_size=0.2, random_state=42)\n"
   ]
  },
  {
   "cell_type": "markdown",
   "id": "e2d6a5f7",
   "metadata": {},
   "source": [
    "#### Training the Random Forest Model"
   ]
  },
  {
   "cell_type": "code",
   "execution_count": 20,
   "id": "609bbcb5",
   "metadata": {},
   "outputs": [
    {
     "data": {
      "text/html": [
       "<style>#sk-container-id-1 {color: black;}#sk-container-id-1 pre{padding: 0;}#sk-container-id-1 div.sk-toggleable {background-color: white;}#sk-container-id-1 label.sk-toggleable__label {cursor: pointer;display: block;width: 100%;margin-bottom: 0;padding: 0.3em;box-sizing: border-box;text-align: center;}#sk-container-id-1 label.sk-toggleable__label-arrow:before {content: \"▸\";float: left;margin-right: 0.25em;color: #696969;}#sk-container-id-1 label.sk-toggleable__label-arrow:hover:before {color: black;}#sk-container-id-1 div.sk-estimator:hover label.sk-toggleable__label-arrow:before {color: black;}#sk-container-id-1 div.sk-toggleable__content {max-height: 0;max-width: 0;overflow: hidden;text-align: left;background-color: #f0f8ff;}#sk-container-id-1 div.sk-toggleable__content pre {margin: 0.2em;color: black;border-radius: 0.25em;background-color: #f0f8ff;}#sk-container-id-1 input.sk-toggleable__control:checked~div.sk-toggleable__content {max-height: 200px;max-width: 100%;overflow: auto;}#sk-container-id-1 input.sk-toggleable__control:checked~label.sk-toggleable__label-arrow:before {content: \"▾\";}#sk-container-id-1 div.sk-estimator input.sk-toggleable__control:checked~label.sk-toggleable__label {background-color: #d4ebff;}#sk-container-id-1 div.sk-label input.sk-toggleable__control:checked~label.sk-toggleable__label {background-color: #d4ebff;}#sk-container-id-1 input.sk-hidden--visually {border: 0;clip: rect(1px 1px 1px 1px);clip: rect(1px, 1px, 1px, 1px);height: 1px;margin: -1px;overflow: hidden;padding: 0;position: absolute;width: 1px;}#sk-container-id-1 div.sk-estimator {font-family: monospace;background-color: #f0f8ff;border: 1px dotted black;border-radius: 0.25em;box-sizing: border-box;margin-bottom: 0.5em;}#sk-container-id-1 div.sk-estimator:hover {background-color: #d4ebff;}#sk-container-id-1 div.sk-parallel-item::after {content: \"\";width: 100%;border-bottom: 1px solid gray;flex-grow: 1;}#sk-container-id-1 div.sk-label:hover label.sk-toggleable__label {background-color: #d4ebff;}#sk-container-id-1 div.sk-serial::before {content: \"\";position: absolute;border-left: 1px solid gray;box-sizing: border-box;top: 0;bottom: 0;left: 50%;z-index: 0;}#sk-container-id-1 div.sk-serial {display: flex;flex-direction: column;align-items: center;background-color: white;padding-right: 0.2em;padding-left: 0.2em;position: relative;}#sk-container-id-1 div.sk-item {position: relative;z-index: 1;}#sk-container-id-1 div.sk-parallel {display: flex;align-items: stretch;justify-content: center;background-color: white;position: relative;}#sk-container-id-1 div.sk-item::before, #sk-container-id-1 div.sk-parallel-item::before {content: \"\";position: absolute;border-left: 1px solid gray;box-sizing: border-box;top: 0;bottom: 0;left: 50%;z-index: -1;}#sk-container-id-1 div.sk-parallel-item {display: flex;flex-direction: column;z-index: 1;position: relative;background-color: white;}#sk-container-id-1 div.sk-parallel-item:first-child::after {align-self: flex-end;width: 50%;}#sk-container-id-1 div.sk-parallel-item:last-child::after {align-self: flex-start;width: 50%;}#sk-container-id-1 div.sk-parallel-item:only-child::after {width: 0;}#sk-container-id-1 div.sk-dashed-wrapped {border: 1px dashed gray;margin: 0 0.4em 0.5em 0.4em;box-sizing: border-box;padding-bottom: 0.4em;background-color: white;}#sk-container-id-1 div.sk-label label {font-family: monospace;font-weight: bold;display: inline-block;line-height: 1.2em;}#sk-container-id-1 div.sk-label-container {text-align: center;}#sk-container-id-1 div.sk-container {/* jupyter's `normalize.less` sets `[hidden] { display: none; }` but bootstrap.min.css set `[hidden] { display: none !important; }` so we also need the `!important` here to be able to override the default hidden behavior on the sphinx rendered scikit-learn.org. See: https://github.com/scikit-learn/scikit-learn/issues/21755 */display: inline-block !important;position: relative;}#sk-container-id-1 div.sk-text-repr-fallback {display: none;}</style><div id=\"sk-container-id-1\" class=\"sk-top-container\"><div class=\"sk-text-repr-fallback\"><pre>RandomForestClassifier(random_state=42)</pre><b>In a Jupyter environment, please rerun this cell to show the HTML representation or trust the notebook. <br />On GitHub, the HTML representation is unable to render, please try loading this page with nbviewer.org.</b></div><div class=\"sk-container\" hidden><div class=\"sk-item\"><div class=\"sk-estimator sk-toggleable\"><input class=\"sk-toggleable__control sk-hidden--visually\" id=\"sk-estimator-id-1\" type=\"checkbox\" checked><label for=\"sk-estimator-id-1\" class=\"sk-toggleable__label sk-toggleable__label-arrow\">RandomForestClassifier</label><div class=\"sk-toggleable__content\"><pre>RandomForestClassifier(random_state=42)</pre></div></div></div></div></div>"
      ],
      "text/plain": [
       "RandomForestClassifier(random_state=42)"
      ]
     },
     "execution_count": 20,
     "metadata": {},
     "output_type": "execute_result"
    }
   ],
   "source": [
    "# Initialize and train the RandomForestClassifier\n",
    "model = RandomForestClassifier(n_estimators=100, random_state=42)\n",
    "model.fit(X_train, y_train)"
   ]
  },
  {
   "cell_type": "markdown",
   "id": "31a46c0a",
   "metadata": {},
   "source": [
    "#### Make predictions "
   ]
  },
  {
   "cell_type": "code",
   "execution_count": 21,
   "id": "69d1e686",
   "metadata": {},
   "outputs": [
    {
     "name": "stdout",
     "output_type": "stream",
     "text": [
      "              precision    recall  f1-score   support\n",
      "\n",
      "           0       1.00      1.00      1.00        57\n",
      "\n",
      "    accuracy                           1.00        57\n",
      "   macro avg       1.00      1.00      1.00        57\n",
      "weighted avg       1.00      1.00      1.00        57\n",
      "\n",
      "Accuracy: 1.0\n"
     ]
    }
   ],
   "source": [
    "# Make predictions\n",
    "y_pred = model.predict(X_test)\n",
    "\n",
    "# Evaluate the model\n",
    "print(classification_report(y_test, y_pred))\n",
    "print(\"Accuracy:\", accuracy_score(y_test, y_pred))"
   ]
  },
  {
   "cell_type": "markdown",
   "id": "4fdbfc4d",
   "metadata": {},
   "source": [
    "Perfect accuracy often suggests that the model might be overfitting the training data, especially when all metrics like precision, recall, and F1-score are also 1.0. It might be overly tuned to the nuances of the training data, failing to generalize to unseen data."
   ]
  },
  {
   "cell_type": "markdown",
   "id": "1f1832ea",
   "metadata": {},
   "source": [
    "Predicting stock movements involves a multitude of factors that aren't always captured by historical data alone.\n",
    "\n",
    "Market sentiment, economic indicators like GDP and inflation, geopolitical developments, and specific sector dynamics play critical roles. Government policies and regulations can also significantly impact market behavior. These predictions can be provide some insights, they need to be used with caution and in the context of broader market analysis. "
   ]
  },
  {
   "cell_type": "code",
   "execution_count": null,
   "id": "79c5127d",
   "metadata": {},
   "outputs": [],
   "source": []
  }
 ],
 "metadata": {
  "kernelspec": {
   "display_name": "Python 3 (ipykernel)",
   "language": "python",
   "name": "python3"
  },
  "language_info": {
   "codemirror_mode": {
    "name": "ipython",
    "version": 3
   },
   "file_extension": ".py",
   "mimetype": "text/x-python",
   "name": "python",
   "nbconvert_exporter": "python",
   "pygments_lexer": "ipython3",
   "version": "3.11.5"
  }
 },
 "nbformat": 4,
 "nbformat_minor": 5
}
